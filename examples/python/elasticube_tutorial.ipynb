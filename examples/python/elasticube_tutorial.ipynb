{
 "cells": [
  {
   "cell_type": "markdown",
   "metadata": {},
   "source": [
    "# ElastiCube Tutorial\n",
    "\n",
    "Welcome to the ElastiCube tutorial! This notebook demonstrates how to:\n",
    "1. Build OLAP cubes from data\n",
    "2. Query cubes with SQL-like syntax\n",
    "3. Perform OLAP operations (slice, dice, drill-down, roll-up)\n",
    "4. Visualize results with matplotlib\n",
    "5. Work with Pandas and Polars DataFrames"
   ]
  },
  {
   "cell_type": "markdown",
   "metadata": {},
   "source": [
    "## Setup\n",
    "\n",
    "First, let's import the necessary libraries and enable inline plotting."
   ]
  },
  {
   "cell_type": "code",
   "execution_count": null,
   "metadata": {},
   "outputs": [],
   "source": [
    "import os\n",
    "from elasticube import ElastiCubeBuilder\n",
    "import matplotlib.pyplot as plt\n",
    "import pandas as pd\n",
    "\n",
    "# Enable inline plotting\n",
    "%matplotlib inline\n",
    "\n",
    "print(\"✓ ElastiCube imported successfully!\")"
   ]
  },
  {
   "cell_type": "markdown",
   "metadata": {},
   "source": [
    "## 1. Building Your First Cube\n",
    "\n",
    "Let's build a cube from sample sales data. We'll define dimensions (categorical fields) and measures (numeric fields to aggregate)."
   ]
  },
  {
   "cell_type": "code",
   "execution_count": null,
   "metadata": {},
   "outputs": [],
   "source": [
    "# Path to sample data\n",
    "csv_path = \"sales_data.csv\"\n",
    "\n",
    "# Create a cube builder\n",
    "builder = ElastiCubeBuilder(\"sales_cube\")\n",
    "\n",
    "# Define dimensions (categorical fields for slicing/dicing)\n",
    "builder.add_dimension(\"region\", \"utf8\")\n",
    "builder.add_dimension(\"product\", \"utf8\")\n",
    "builder.add_dimension(\"category\", \"utf8\")\n",
    "builder.add_dimension(\"year\", \"int64\")\n",
    "builder.add_dimension(\"quarter\", \"int64\")\n",
    "\n",
    "# Define measures (numeric fields for aggregation)\n",
    "builder.add_measure(\"sales\", \"float64\", \"sum\")\n",
    "builder.add_measure(\"quantity\", \"int64\", \"sum\")\n",
    "\n",
    "# Load data from CSV\n",
    "builder.load_csv(csv_path)\n",
    "\n",
    "# Build the cube\n",
    "cube = builder.build()\n",
    "\n",
    "# Display cube info (Jupyter will show a rich HTML representation)\n",
    "cube"
   ]
  },
  {
   "cell_type": "markdown",
   "metadata": {},
   "source": [
    "## 2. Basic Queries\n",
    "\n",
    "Now let's query the cube! ElastiCube provides a fluent API similar to SQL."
   ]
  },
  {
   "cell_type": "code",
   "execution_count": null,
   "metadata": {},
   "outputs": [],
   "source": [
    "# Select all data (limited to 10 rows)\n",
    "query = cube.query()\n",
    "query.select([\"region\", \"product\", \"sales\", \"quantity\"])\n",
    "query.limit(10)\n",
    "\n",
    "df = query.to_pandas()\n",
    "df"
   ]
  },
  {
   "cell_type": "markdown",
   "metadata": {},
   "source": [
    "## 3. Aggregation Queries\n",
    "\n",
    "Let's perform some aggregations to get sales totals by region."
   ]
  },
  {
   "cell_type": "code",
   "execution_count": null,
   "metadata": {},
   "outputs": [],
   "source": [
    "# Total sales by region\n",
    "query = cube.query()\n",
    "query.select([\n",
    "    \"region\",\n",
    "    \"SUM(sales) as total_sales\",\n",
    "    \"SUM(quantity) as total_quantity\",\n",
    "    \"COUNT(*) as transactions\"\n",
    "])\n",
    "query.group_by([\"region\"])\n",
    "query.order_by([\"total_sales DESC\"])\n",
    "\n",
    "df_regional = query.to_pandas()\n",
    "df_regional"
   ]
  },
  {
   "cell_type": "markdown",
   "metadata": {},
   "source": [
    "## 4. Filtering Data\n",
    "\n",
    "Use WHERE-style filters to narrow down your analysis."
   ]
  },
  {
   "cell_type": "code",
   "execution_count": null,
   "metadata": {},
   "outputs": [],
   "source": [
    "# High-value transactions (sales > 900)\n",
    "query = cube.query()\n",
    "query.select([\"region\", \"product\", \"sales\", \"quantity\"])\n",
    "query.filter(\"sales > 900\")\n",
    "query.order_by([\"sales DESC\"])\n",
    "\n",
    "df_high_value = query.to_pandas()\n",
    "df_high_value"
   ]
  },
  {
   "cell_type": "markdown",
   "metadata": {},
   "source": [
    "## 5. OLAP Operations\n",
    "\n",
    "### Slice: Filter on a single dimension"
   ]
  },
  {
   "cell_type": "code",
   "execution_count": null,
   "metadata": {},
   "outputs": [],
   "source": [
    "# Slice: Look at only the North region\n",
    "query = cube.query()\n",
    "query.filter(\"region = 'North'\")\n",
    "query.select([\"product\", \"category\", \"SUM(sales) as total\"])\n",
    "query.group_by([\"product\", \"category\"])\n",
    "\n",
    "df_north = query.to_pandas()\n",
    "df_north"
   ]
  },
  {
   "cell_type": "markdown",
   "metadata": {},
   "source": [
    "### Dice: Filter on multiple dimensions"
   ]
  },
  {
   "cell_type": "code",
   "execution_count": null,
   "metadata": {},
   "outputs": [],
   "source": [
    "# Dice: North region + Electronics category\n",
    "query = cube.query()\n",
    "query.filter(\"region = 'North' AND category = 'Electronics'\")\n",
    "query.select([\"product\", \"SUM(sales) as total\", \"AVG(sales) as avg_sale\"])\n",
    "query.group_by([\"product\"])\n",
    "\n",
    "df_dice = query.to_pandas()\n",
    "df_dice"
   ]
  },
  {
   "cell_type": "markdown",
   "metadata": {},
   "source": [
    "### Drill-down: Increase granularity"
   ]
  },
  {
   "cell_type": "code",
   "execution_count": null,
   "metadata": {},
   "outputs": [],
   "source": [
    "# Start with regional totals\n",
    "query = cube.query()\n",
    "query.select([\"region\", \"SUM(sales) as total\"])\n",
    "query.group_by([\"region\"])\n",
    "df_region = query.to_pandas()\n",
    "\n",
    "print(\"Regional Level:\")\n",
    "print(df_region)\n",
    "\n",
    "# Drill down to product level within each region\n",
    "query = cube.query()\n",
    "query.select([\"region\", \"product\", \"SUM(sales) as total\"])\n",
    "query.group_by([\"region\", \"product\"])\n",
    "df_drilldown = query.to_pandas()\n",
    "\n",
    "print(\"\\nProduct Level (Drilled Down):\")\n",
    "print(df_drilldown)"
   ]
  },
  {
   "cell_type": "markdown",
   "metadata": {},
   "source": [
    "### Roll-up: Decrease granularity"
   ]
  },
  {
   "cell_type": "code",
   "execution_count": null,
   "metadata": {},
   "outputs": [],
   "source": [
    "# Detailed level: region + product + quarter\n",
    "query = cube.query()\n",
    "query.select([\"region\", \"product\", \"quarter\", \"SUM(sales) as total\"])\n",
    "query.group_by([\"region\", \"product\", \"quarter\"])\n",
    "df_detailed = query.to_pandas()\n",
    "\n",
    "print(\"Detailed Level (Region × Product × Quarter):\")\n",
    "print(f\"Rows: {len(df_detailed)}\")\n",
    "print(df_detailed.head())\n",
    "\n",
    "# Roll up to just region level\n",
    "query = cube.query()\n",
    "query.select([\"region\", \"SUM(sales) as total\"])\n",
    "query.group_by([\"region\"])\n",
    "df_rollup = query.to_pandas()\n",
    "\n",
    "print(\"\\nRolled Up Level (Region Only):\")\n",
    "print(f\"Rows: {len(df_rollup)}\")\n",
    "print(df_rollup)"
   ]
  },
  {
   "cell_type": "markdown",
   "metadata": {},
   "source": [
    "## 6. Visualization with plot()\n",
    "\n",
    "ElastiCube integrates seamlessly with matplotlib for quick visualizations."
   ]
  },
  {
   "cell_type": "code",
   "execution_count": null,
   "metadata": {},
   "outputs": [],
   "source": [
    "# Bar chart: Sales by region\n",
    "query = cube.query()\n",
    "query.select([\"region\", \"SUM(sales) as total_sales\"])\n",
    "query.group_by([\"region\"])\n",
    "query.order_by([\"total_sales DESC\"])\n",
    "\n",
    "fig, ax = query.plot().bar(\n",
    "    x=\"region\",\n",
    "    y=\"total_sales\",\n",
    "    title=\"Total Sales by Region\",\n",
    "    ylabel=\"Sales ($)\",\n",
    "    color=\"#4CAF50\"\n",
    ")\n",
    "plt.show()"
   ]
  },
  {
   "cell_type": "code",
   "execution_count": null,
   "metadata": {},
   "outputs": [],
   "source": [
    "# Line chart: Quarterly trends\n",
    "query = cube.query()\n",
    "query.select([\n",
    "    \"quarter\",\n",
    "    \"SUM(sales) as total_sales\",\n",
    "    \"AVG(sales) as avg_sales\"\n",
    "])\n",
    "query.group_by([\"quarter\"])\n",
    "query.order_by([\"quarter ASC\"])\n",
    "\n",
    "fig, ax = query.plot().line(\n",
    "    x=\"quarter\",\n",
    "    y=[\"total_sales\", \"avg_sales\"],\n",
    "    title=\"Quarterly Sales Trends\",\n",
    "    xlabel=\"Quarter\",\n",
    "    ylabel=\"Sales ($)\"\n",
    ")\n",
    "plt.show()"
   ]
  },
  {
   "cell_type": "code",
   "execution_count": null,
   "metadata": {},
   "outputs": [],
   "source": [
    "# Pie chart: Market share by region\n",
    "query = cube.query()\n",
    "query.select([\"region\", \"SUM(sales) as total\"])\n",
    "query.group_by([\"region\"])\n",
    "\n",
    "fig, ax = query.plot().pie(\n",
    "    labels=\"region\",\n",
    "    values=\"total\",\n",
    "    title=\"Market Share by Region\"\n",
    ")\n",
    "plt.show()"
   ]
  },
  {
   "cell_type": "markdown",
   "metadata": {},
   "source": [
    "## 7. Advanced Analysis\n",
    "\n",
    "Let's combine multiple OLAP operations for deeper insights."
   ]
  },
  {
   "cell_type": "code",
   "execution_count": null,
   "metadata": {},
   "outputs": [],
   "source": [
    "# Multi-dimensional analysis: Region × Category × Quarter\n",
    "query = cube.query()\n",
    "query.select([\n",
    "    \"region\",\n",
    "    \"category\",\n",
    "    \"quarter\",\n",
    "    \"SUM(sales) as total_sales\",\n",
    "    \"AVG(sales) as avg_sales\",\n",
    "    \"COUNT(*) as transactions\"\n",
    "])\n",
    "query.group_by([\"region\", \"category\", \"quarter\"])\n",
    "query.order_by([\"total_sales DESC\"])\n",
    "query.limit(15)\n",
    "\n",
    "df_multi = query.to_pandas()\n",
    "df_multi"
   ]
  },
  {
   "cell_type": "markdown",
   "metadata": {},
   "source": [
    "## 8. Working with Polars (High Performance)\n",
    "\n",
    "For maximum performance, use Polars instead of Pandas!"
   ]
  },
  {
   "cell_type": "code",
   "execution_count": null,
   "metadata": {},
   "outputs": [],
   "source": [
    "try:\n",
    "    import polars as pl\n",
    "    \n",
    "    # Query with Polars (zero-copy from Arrow!)\n",
    "    query = cube.query()\n",
    "    query.select([\"region\", \"product\", \"sales\", \"quantity\"])\n",
    "    \n",
    "    df_polars = query.to_polars()\n",
    "    \n",
    "    # Use Polars lazy API for additional operations\n",
    "    result = (\n",
    "        df_polars.lazy()\n",
    "        .filter(pl.col(\"sales\") > 900)\n",
    "        .group_by(\"region\")\n",
    "        .agg([\n",
    "            pl.col(\"sales\").sum().alias(\"total_sales\"),\n",
    "            pl.col(\"quantity\").sum().alias(\"total_qty\"),\n",
    "            pl.col(\"sales\").mean().alias(\"avg_sales\")\n",
    "        ])\n",
    "        .sort(\"total_sales\", descending=True)\n",
    "        .collect()\n",
    "    )\n",
    "    \n",
    "    print(result)\n",
    "    \n",
    "except ImportError:\n",
    "    print(\"Polars not installed. Install with: pip install polars\")"
   ]
  },
  {
   "cell_type": "markdown",
   "metadata": {},
   "source": [
    "## 9. Summary\n",
    "\n",
    "You've learned how to:\n",
    "\n",
    "✓ Build OLAP cubes from CSV data\n",
    "\n",
    "✓ Query cubes with SELECT, WHERE, GROUP BY, ORDER BY\n",
    "\n",
    "✓ Perform OLAP operations (slice, dice, drill-down, roll-up)\n",
    "\n",
    "✓ Create visualizations with .plot()\n",
    "\n",
    "✓ Work with both Pandas and Polars DataFrames\n",
    "\n",
    "✓ Combine multiple dimensions for multi-dimensional analysis\n",
    "\n",
    "### Next Steps:\n",
    "\n",
    "- Try loading your own data (CSV, Parquet, or JSON)\n",
    "- Experiment with different aggregation functions (MIN, MAX, AVG, COUNT DISTINCT)\n",
    "- Create custom visualizations with matplotlib/seaborn\n",
    "- Build hierarchies for time-based drill-down (year → quarter → month)\n",
    "\n",
    "Happy analyzing! 📊"
   ]
  }
 ],
 "metadata": {
  "kernelspec": {
   "display_name": "Python 3",
   "language": "python",
   "name": "python3"
  },
  "language_info": {
   "codemirror_mode": {
    "name": "ipython",
    "version": 3
   },
   "file_extension": ".py",
   "mimetype": "text/x-python",
   "name": "python",
   "nbconvert_exporter": "python",
   "pygments_lexer": "ipython3",
   "version": "3.11.0"
  }
 },
 "nbformat": 4,
 "nbformat_minor": 4
}
